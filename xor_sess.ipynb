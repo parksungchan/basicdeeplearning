{
  "nbformat": 4,
  "nbformat_minor": 0,
  "metadata": {
    "colab": {
      "name": "xor_sess.ipynb",
      "provenance": [],
      "collapsed_sections": [],
      "include_colab_link": true
    },
    "kernelspec": {
      "name": "python3",
      "display_name": "Python 3"
    },
    "accelerator": "GPU"
  },
  "cells": [
    {
      "cell_type": "markdown",
      "metadata": {
        "id": "view-in-github",
        "colab_type": "text"
      },
      "source": [
        "<a href=\"https://colab.research.google.com/github/parksungchan/basicdeeplearning/blob/master/xor_sess.ipynb\" target=\"_parent\"><img src=\"https://colab.research.google.com/assets/colab-badge.svg\" alt=\"Open In Colab\"/></a>"
      ]
    },
    {
      "cell_type": "code",
      "metadata": {
        "id": "-bUJK7eLvUDz",
        "colab_type": "code",
        "outputId": "baf230fa-8ec5-4520-d80c-7869c720c1fd",
        "colab": {
          "base_uri": "https://localhost:8080/",
          "height": 64
        }
      },
      "source": [
        "import tensorflow as tf\n",
        "import numpy as np\n",
        " \n",
        "x_data = np.array([[0,0], [0,1], [1,0], [1,1]], dtype=np.float32)\n",
        "y_data = np.array([[0],   [1],   [1],   [0]], dtype=np.float32)\n",
        " \n",
        "X = tf.placeholder(tf.float32)\n",
        "Y = tf.placeholder(tf.float32)"
      ],
      "execution_count": 0,
      "outputs": [
        {
          "output_type": "display_data",
          "data": {
            "text/html": [
              "<p style=\"color: red;\">\n",
              "The default version of TensorFlow in Colab will soon switch to TensorFlow 2.x.<br>\n",
              "We recommend you <a href=\"https://www.tensorflow.org/guide/migrate\" target=\"_blank\">upgrade</a> now \n",
              "or ensure your notebook will continue to use TensorFlow 1.x via the <code>%tensorflow_version 1.x</code> magic:\n",
              "<a href=\"https://colab.research.google.com/notebooks/tensorflow_version.ipynb\" target=\"_blank\">more info</a>.</p>\n"
            ],
            "text/plain": [
              "<IPython.core.display.HTML object>"
            ]
          },
          "metadata": {
            "tags": []
          }
        }
      ]
    },
    {
      "cell_type": "markdown",
      "metadata": {
        "id": "FJbQw7qEJoVw",
        "colab_type": "text"
      },
      "source": [
        "# **Create Model**"
      ]
    },
    {
      "cell_type": "code",
      "metadata": {
        "id": "OfFDwcBPJqNe",
        "colab_type": "code",
        "colab": {}
      },
      "source": [
        "W1 = tf.Variable(tf.random_normal([2, 1]), name='weight1')\n",
        "b1 = tf.Variable(tf.random_normal([1]), name='bias1')\n",
        "\n",
        "W2 = tf.Variable(tf.random_normal([2, 1]), name='weight2')\n",
        "b2 = tf.Variable(tf.random_normal([1]), name='bias2')\n",
        "\n",
        "W3 = tf.Variable(tf.random_normal([2, 1]), name='weight3')\n",
        "b3 = tf.Variable(tf.random_normal([1]), name='bias3')\n",
        "\n",
        "layer1 = tf.sigmoid(tf.matmul(X, W1) + b1)\n",
        "layer2 = tf.sigmoid(tf.matmul(X, W2) + b2)\n",
        "layer3 = tf.concat([layer1, layer2],-1)\n",
        "layer3 = tf.reshape(layer3, shape = [-1,2])\n",
        "hypothesis = tf.sigmoid(tf.matmul(layer3, W3) + b3)"
      ],
      "execution_count": 0,
      "outputs": []
    },
    {
      "cell_type": "code",
      "metadata": {
        "id": "34Mt9peTJscv",
        "colab_type": "code",
        "colab": {}
      },
      "source": [
        "# Weight의 크기를 잘 정해줘야한다.\n",
        "# 1단에서 2단으로 바꿔줌.\n",
        "W1 = tf.Variable(tf.random_normal([2, 2]), name='weight1')\n",
        "b1 = tf.Variable(tf.random_normal([2]), name='bias1')\n",
        "layer1 = tf.sigmoid(tf.matmul(X, W1) + b1)\n",
        "\n",
        "W2 = tf.Variable(tf.random_normal([2, 1]), name='weight2')\n",
        "b2 = tf.Variable(tf.random_normal([1]), name='bias2')\n",
        "hypothesis = tf.sigmoid(tf.matmul(layer1, W2) + b2)"
      ],
      "execution_count": 0,
      "outputs": []
    },
    {
      "cell_type": "markdown",
      "metadata": {
        "id": "_LHagBNYJug7",
        "colab_type": "text"
      },
      "source": [
        "# **Cost**"
      ]
    },
    {
      "cell_type": "code",
      "metadata": {
        "id": "__RhZx3LJwb3",
        "colab_type": "code",
        "colab": {}
      },
      "source": [
        "# cost function / minimize cost\n",
        "cost = -tf.reduce_mean(Y * tf.log(hypothesis) + (1 - Y) * tf.log(1 - hypothesis))\n",
        "train = tf.train.GradientDescentOptimizer(learning_rate=0.1).minimize(cost)\n",
        " \n",
        "# predicate / accuracy\n",
        "predicated = tf.cast(hypothesis > 0.5, dtype=tf.float32)\n",
        "accuracy = tf.reduce_mean(tf.cast(tf.equal(predicated, Y), dtype=tf.float32))"
      ],
      "execution_count": 0,
      "outputs": []
    },
    {
      "cell_type": "markdown",
      "metadata": {
        "id": "-K3JJnmwJzZj",
        "colab_type": "text"
      },
      "source": [
        "# **Run**"
      ]
    },
    {
      "cell_type": "code",
      "metadata": {
        "id": "Yi2NYsKRJy9v",
        "colab_type": "code",
        "outputId": "267e092f-9feb-424e-9df7-e26bb875e748",
        "colab": {
          "base_uri": "https://localhost:8080/",
          "height": 764
        }
      },
      "source": [
        "with tf.Session() as sess:\n",
        "    sess.run(tf.global_variables_initializer())\n",
        "    for step in range(10001):\n",
        "        sess.run(train, feed_dict={X: x_data, Y: y_data})\n",
        "        if step%1000 == 0:\n",
        "            print(step, sess.run(cost, feed_dict={X: x_data, Y: y_data}), sess.run([W1, W2]))\n",
        "    h, c, a = sess.run([hypothesis, predicated, accuracy], feed_dict={X: x_data, Y: y_data})\n",
        "    print(\"\\nHypothesis: \",h,\"\\nCorrect: \",c,\"\\nAccuracy: \",a)"
      ],
      "execution_count": 0,
      "outputs": [
        {
          "output_type": "stream",
          "text": [
            "0 0.7294166 [array([[-0.24612445,  0.28739876],\n",
            "       [ 0.09960987,  1.1763155 ]], dtype=float32), array([[-1.0473405 ],\n",
            "       [ 0.51079565]], dtype=float32)]\n",
            "1000 0.673691 [array([[-0.03771453,  1.2984443 ],\n",
            "       [ 0.10949752,  1.6782315 ]], dtype=float32), array([[-1.009647 ],\n",
            "       [ 1.0362858]], dtype=float32)]\n",
            "2000 0.54610103 [array([[0.8537631, 3.033109 ],\n",
            "       [0.9198641, 3.1190476]], dtype=float32), array([[-1.8932978],\n",
            "       [ 2.8542192]], dtype=float32)]\n",
            "3000 0.24879548 [array([[2.2698166, 4.6179223],\n",
            "       [2.275472 , 4.642514 ]], dtype=float32), array([[-4.7328324],\n",
            "       [ 5.1071167]], dtype=float32)]\n",
            "4000 0.09430401 [array([[3.338187 , 5.372366 ],\n",
            "       [3.3402312, 5.384183 ]], dtype=float32), array([[-6.9871745],\n",
            "       [ 6.7225847]], dtype=float32)]\n",
            "5000 0.05236166 [array([[3.845944 , 5.7549105],\n",
            "       [3.8473914, 5.7629247]], dtype=float32), array([[-8.184236 ],\n",
            "       [ 7.6986446]], dtype=float32)]\n",
            "6000 0.03534989 [array([[4.1491547, 5.997219 ],\n",
            "       [4.1503215, 6.003462 ]], dtype=float32), array([[-8.950287],\n",
            "       [ 8.366692]], dtype=float32)]\n",
            "7000 0.026430001 [array([[4.358933 , 6.171043 ],\n",
            "       [4.35993  , 6.1762514]], dtype=float32), array([[-9.506082],\n",
            "       [ 8.869523]], dtype=float32)]\n",
            "8000 0.02100714 [array([[4.516973 , 6.3051796],\n",
            "       [4.517856 , 6.3097086]], dtype=float32), array([[-9.940098],\n",
            "       [ 9.271202]], dtype=float32)]\n",
            "9000 0.017384969 [array([[4.6426673, 6.4137006],\n",
            "       [4.6434646, 6.4177437]], dtype=float32), array([[-10.295315],\n",
            "       [  9.605041]], dtype=float32)]\n",
            "10000 0.01480384 [array([[4.746423 , 6.5044417],\n",
            "       [4.7471523, 6.508117 ]], dtype=float32), array([[-10.595584],\n",
            "       [  9.890368]], dtype=float32)]\n",
            "\n",
            "Hypothesis:  [[0.01749325]\n",
            " [0.98662156]\n",
            " [0.9866165 ]\n",
            " [0.01451829]] \n",
            "Correct:  [[0.]\n",
            " [1.]\n",
            " [1.]\n",
            " [0.]] \n",
            "Accuracy:  1.0\n"
          ],
          "name": "stdout"
        }
      ]
    }
  ]
}